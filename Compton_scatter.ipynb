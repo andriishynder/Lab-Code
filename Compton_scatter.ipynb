{
 "cells": [
  {
   "cell_type": "code",
   "execution_count": 2,
   "metadata": {},
   "outputs": [],
   "source": [
    "import math \n",
    "import matplotlib.pyplot as plt\n",
    "import numpy as np\n",
    "from statistics import mean\n",
    "from scipy.optimize import curve_fit\n",
    "%matplotlib inline"
   ]
  },
  {
   "cell_type": "markdown",
   "metadata": {},
   "source": [
    "Part 1: Energy Determination"
   ]
  },
  {
   "cell_type": "code",
   "execution_count": 3,
   "metadata": {},
   "outputs": [],
   "source": [
    "theta = np.array(np.arange(20,90,5))\n",
    "E_comp = np.array([598.30,577.71,551.34,524.16,500.10,470.70,448.67,421.94,397.18,372.26,353.49,331.73,312.98,296.82])\n",
    "sumUnderPeak = np.array([32230,17463,10456,10208,11041,10260,10413,10305,10361,10274,10542,10298,12660,10997])\n",
    "sumUnderPeakErr = np.array([581,539,809,542,454,445,477,464,562,433,742,474,601,480])\n",
    "collecTime = np.array([242.12,164.94,203.80,145.74,162.20,167.10,195.66,204.36,275.96,238.46,452.64,280.34,421.82,324.86])\n",
    "\n",
    "thetaRad = np.cos(np.deg2rad(theta))\n",
    "x = 1 - thetaRad\n",
    "y = 1/(E_comp*1E-3)"
   ]
  },
  {
   "cell_type": "code",
   "execution_count": 4,
   "metadata": {},
   "outputs": [],
   "source": [
    "def inverseE(E_comp):\n",
    "    return 1 / (1.51 + 1.956 * (1 - thetaRad))"
   ]
  },
  {
   "cell_type": "code",
   "execution_count": 5,
   "metadata": {},
   "outputs": [],
   "source": [
    "# Least squares fit line\n",
    "def fitfunc(x,m,c): \n",
    "    return m*x+c\n",
    "\n",
    "# Plot line of best fit\n",
    "pars1,cov1 = curve_fit(fitfunc,x,y)\n",
    "pars2,cov2 = curve_fit(fitfunc,x,1/inverseE(E_comp))"
   ]
  },
  {
   "cell_type": "code",
   "execution_count": 6,
   "metadata": {},
   "outputs": [],
   "source": [
    "# Errors on slopes and intercepts\n",
    "m1=pars1[0]\n",
    "σm1=np.sqrt(cov1[0][0])\n",
    "b1=pars1[1]\n",
    "σb1=np.sqrt(cov1[1][1])\n",
    "\n",
    "m2=pars2[0]\n",
    "σm2=np.sqrt(cov2[0][0])\n",
    "b2=pars2[1]\n",
    "σb2=np.sqrt(cov2[1][1])"
   ]
  },
  {
   "cell_type": "code",
   "execution_count": 7,
   "metadata": {},
   "outputs": [
    {
     "data": {
      "image/png": "[encoded data removed]",
      "text/plain": [
       "<Figure size 432x288 with 1 Axes>"
      ]
     },
     "metadata": {
      "needs_background": "light"
     },
     "output_type": "display_data"
    },
    {
     "name": "stdout",
     "output_type": "stream",
     "text": [
      "Measured: Slope = 1.99 ± 0.01, Intercept = 1.54 ± 0.01\n",
      "Calculated: Slope = 1.96 ± 0.00, Intercept = 1.51 ± 0.00\n"
     ]
    }
   ],
   "source": [
    "plt.plot(x,fitfunc(x,*pars1),'black')\n",
    "plt.plot(x,fitfunc(x,*pars2),'black')\n",
    "plt.plot(x,y,'go',label='Calculated')\n",
    "plt.plot(x,1/inverseE(E_comp),'ro',label='Measured')\n",
    "\n",
    "plt.ylabel('1 / E_comp (MeV^-1)' )\n",
    "plt.xlabel('1 - cos(theta) (rad)')\n",
    "plt.title('1 / E_comp vs 1 - cos(theta)') \n",
    "\n",
    "plt.legend()\n",
    "plt.grid(True)\n",
    "plt.show()\n",
    "\n",
    "print('Measured: Slope = {m:.2f} ± {σm:.2f}, Intercept = {b:.2f} ± {σb:.2f}'.format(m=m1,σm=σm1,b=b1,σb=σb1))\n",
    "print('Calculated: Slope = {m:.2f} ± {σm:.2f}, Intercept = {b:.2f} ± {σb:.2f}'.format(m=m2,σm=σm2,b=b2,σb=σb2))"
   ]
  },
  {
   "cell_type": "markdown",
   "metadata": {},
   "source": [
    "Part 2: Cross - Section Determination"
   ]
  },
  {
   "cell_type": "code",
   "execution_count": 8,
   "metadata": {},
   "outputs": [],
   "source": [
    "r_0 = 2.82E-13\n",
    "alpha = 1.29\n",
    "\n",
    "def crossSecT(r_0,alpha,theta):\n",
    "    \n",
    "    res1 = (r_0**2 / 2)\n",
    "    res2 = (1 + theta**2) / (1 + alpha*(1-theta))**2\n",
    "    res3 = 1 + ((alpha**2 * (1 - theta)**2) /(1 + theta**2 * (1 + alpha*(1-theta))))\n",
    "    return res1*res2*res3"
   ]
  },
  {
   "cell_type": "code",
   "execution_count": 9,
   "metadata": {},
   "outputs": [],
   "source": [
    "crossSecTheory = crossSecT(r_0,alpha,thetaRad)"
   ]
  },
  {
   "cell_type": "code",
   "execution_count": 10,
   "metadata": {},
   "outputs": [],
   "source": [
    "def crossSecM(sumGamma,N,delOmega,I):\n",
    "    res = sumGamma / (N * delOmega * I)\n",
    "    return res"
   ]
  },
  {
   "cell_type": "code",
   "execution_count": 11,
   "metadata": {},
   "outputs": [],
   "source": [
    "def intPeakEff(E_comp):\n",
    "    res = 0.1522 * (E_comp*1E-3)**-1.1325\n",
    "    return res"
   ]
  },
  {
   "cell_type": "code",
   "execution_count": 12,
   "metadata": {},
   "outputs": [],
   "source": [
    "def sumGamma(sumUnderPeak,collecTime):\n",
    "    res = sumUnderPeak / (collecTime*intPeakEff(E_comp))\n",
    "    return res"
   ]
  },
  {
   "cell_type": "code",
   "execution_count": 51,
   "metadata": {},
   "outputs": [
    {
     "data": {
      "text/plain": [
       "array([133.11581034, 105.87486359,  51.30520118,  70.04254151,\n",
       "        68.0702836 ,  61.40035907,  53.21987121,  50.42571932,\n",
       "        37.54529642,  43.0847941 ,  23.29003181,  36.7339659 ,\n",
       "        30.01280167,  33.85150526])"
      ]
     },
     "execution_count": 51,
     "metadata": {},
     "output_type": "execute_result"
    }
   ],
   "source": [
    "sumUnderPeak / collecTime"
   ]
  },
  {
   "cell_type": "code",
   "execution_count": 49,
   "metadata": {},
   "outputs": [
    {
     "data": {
      "text/plain": [
       "array([488.8501565 , 373.69273627, 171.75299873, 221.43184723,\n",
       "       204.04445417, 171.84585572, 141.08035057, 124.69064336,\n",
       "        86.69500644,  92.4470137 ,  47.12946738,  69.17384142,\n",
       "        52.91324787,  56.20330273])"
      ]
     },
     "execution_count": 49,
     "metadata": {},
     "output_type": "execute_result"
    }
   ],
   "source": [
    "sumGamma(sumUnderPeak,collecTime)"
   ]
  },
  {
   "cell_type": "code",
   "execution_count": 13,
   "metadata": {},
   "outputs": [],
   "source": [
    "m = 79.3\n",
    "Z = 13\n",
    "Av = 6.02E23\n",
    "A = 26.98\n",
    "\n",
    "def N(m,Z,Av,A):\n",
    "    res = (m * Z * Av) / A\n",
    "    return res"
   ]
  },
  {
   "cell_type": "code",
   "execution_count": 15,
   "metadata": {},
   "outputs": [],
   "source": [
    "a = math.pi * 1**2\n",
    "R = 26\n",
    "\n",
    "def delOmega(a,R):\n",
    "    res = a / R**2\n",
    "    return res"
   ]
  },
  {
   "cell_type": "code",
   "execution_count": 16,
   "metadata": {},
   "outputs": [],
   "source": [
    "I = 1.013E6 * np.exp(-45.25/43.48)"
   ]
  },
  {
   "cell_type": "code",
   "execution_count": 17,
   "metadata": {},
   "outputs": [],
   "source": [
    "crossSecMeasured = crossSecM(sumGamma(sumUnderPeak,collecTime),N(m,Z,Av,A),delOmega(a,R),I)"
   ]
  },
  {
   "cell_type": "code",
   "execution_count": 18,
   "metadata": {},
   "outputs": [
    {
     "name": "stdout",
     "output_type": "stream",
     "text": [
      "1: 20° -> Ratio:5.058582375804053\n",
      "2: 25° -> Ratio:5.945012431440287\n",
      "3: 30° -> Ratio:11.444341911031104\n",
      "4: 35° -> Ratio:7.7701369004671\n",
      "5: 40° -> Ratio:7.339352628081557\n",
      "6: 45° -> Ratio:7.583635828953712\n",
      "7: 50° -> Ratio:8.08407502453742\n",
      "8: 55° -> Ratio:8.098035304473264\n",
      "9: 60° -> Ratio:10.492092440737544\n",
      "10: 65° -> Ratio:9.062373303248444\n",
      "11: 70° -> Ratio:16.791534787358216\n",
      "12: 75° -> Ratio:11.085723116056798\n",
      "13: 80° -> Ratio:14.357064644031334\n",
      "14: 85° -> Ratio:13.593321391982943\n",
      "Mean ratio: 9.76466300630027\n"
     ]
    }
   ],
   "source": [
    "i=0\n",
    "ratios = list()\n",
    "for j in theta: \n",
    "    ratio = crossSecTheory[i]/crossSecMeasured[i]\n",
    "    ratios.append(ratio)\n",
    "    print(f\"{i+1}: {j}° -> Ratio:{ratio}\") \n",
    "    i+=1\n",
    "\n",
    "meanRatio = mean(ratios)\n",
    "print(f\"Mean ratio: {meanRatio}\")"
   ]
  },
  {
   "cell_type": "code",
   "execution_count": 19,
   "metadata": {},
   "outputs": [
    {
     "data": {
      "image/png": "[encoded data removed]",
      "text/plain": [
       "<Figure size 432x288 with 1 Axes>"
      ]
     },
     "metadata": {
      "needs_background": "light"
     },
     "output_type": "display_data"
    }
   ],
   "source": [
    "plt.plot(theta,crossSecTheory,'black',label='Theoretical')\n",
    "plt.plot(theta,crossSecMeasured*meanRatio,'ro',label='Measured')\n",
    "\n",
    "plt.xlabel('Angle (theta)')\n",
    "plt.ylabel('Cross Section (cm^2 / sr)' )\n",
    "plt.title('Cross Section vs Angle') \n",
    "\n",
    "plt.legend()\n",
    "plt.grid(True)\n",
    "plt.show()"
   ]
  },
  {
   "cell_type": "code",
   "execution_count": 20,
   "metadata": {},
   "outputs": [
    {
     "data": {
      "text/plain": [
       "array([[1.        , 0.93636468],\n",
       "       [0.93636468, 1.        ]])"
      ]
     },
     "execution_count": 20,
     "metadata": {},
     "output_type": "execute_result"
    }
   ],
   "source": [
    "np.corrcoef(crossSecTheory,crossSecMeasured)"
   ]
  },
  {
   "cell_type": "markdown",
   "metadata": {},
   "source": [
    "Part 3: Electron Rest Mass Determination"
   ]
  },
  {
   "cell_type": "code",
   "execution_count": 21,
   "metadata": {},
   "outputs": [],
   "source": [
    "E_gamma = np.array([661.33,356,1173,1332,570,1063,122,1460,2614,1097,1294,511,1274])\n",
    "T = np.array([474,205,957.3,1113.1,390.4,856.6,41,1235.6,2373.5,891.8,1077.5,337.6,1060.7])"
   ]
  },
  {
   "cell_type": "code",
   "execution_count": 22,
   "metadata": {},
   "outputs": [],
   "source": [
    "def TFromFit(E_gamma,m_0):\n",
    "    res = 2 * E_gamma**2 / (2 * E_gamma + m_0)\n",
    "    return res"
   ]
  },
  {
   "cell_type": "code",
   "execution_count": 23,
   "metadata": {},
   "outputs": [],
   "source": [
    "pars3,cov3 = curve_fit(TFromFit,E_gamma,T)\n",
    "err = np.sqrt(cov3[0][0])"
   ]
  },
  {
   "cell_type": "code",
   "execution_count": 24,
   "metadata": {},
   "outputs": [
    {
     "data": {
      "image/png": "[encoded data removed]",
      "text/plain": [
       "<Figure size 432x288 with 1 Axes>"
      ]
     },
     "metadata": {
      "needs_background": "light"
     },
     "output_type": "display_data"
    },
    {
     "name": "stdout",
     "output_type": "stream",
     "text": [
      "m_0c^2 = 521.5 ± 2.4 keV, \n"
     ]
    }
   ],
   "source": [
    "x = np.arange(0,3000,1)\n",
    "\n",
    "plt.plot(E_gamma,T,'ro',label='Measured')\n",
    "plt.plot(x,TFromFit(x,pars3[0]),'black',label='Theoretical fit')\n",
    "\n",
    "plt.xlabel('E_gamma (keV)')\n",
    "plt.ylabel('T (kEV)' )\n",
    "plt.title('T vs E_gamma') \n",
    "\n",
    "plt.legend()\n",
    "plt.grid(True)\n",
    "plt.show()\n",
    "\n",
    "print('m_0c^2 = {m:.1f} ± {σm:.1f} keV, '.format(m=pars3[0],σm=err))\n"
   ]
  },
  {
   "cell_type": "code",
   "execution_count": 25,
   "metadata": {},
   "outputs": [],
   "source": [
    "def m_nr(E_gamma,T):\n",
    "    res = (2 * E_gamma - T)**2 / (2 * T)\n",
    "    return res"
   ]
  },
  {
   "cell_type": "code",
   "execution_count": 26,
   "metadata": {},
   "outputs": [],
   "source": [
    "pars4,cov4 = curve_fit(fitfunc,T,m_nr(E_gamma,T))"
   ]
  },
  {
   "cell_type": "code",
   "execution_count": 27,
   "metadata": {},
   "outputs": [],
   "source": [
    "m4=pars4[0]\n",
    "σm4=np.sqrt(cov4[0][0])\n",
    "b4=pars4[1]\n",
    "σb4=np.sqrt(cov4[1][1])"
   ]
  },
  {
   "cell_type": "code",
   "execution_count": 28,
   "metadata": {},
   "outputs": [
    {
     "data": {
      "image/png": "[encoded data removed]",
      "text/plain": [
       "<Figure size 432x288 with 1 Axes>"
      ]
     },
     "metadata": {
      "needs_background": "light"
     },
     "output_type": "display_data"
    },
    {
     "name": "stdout",
     "output_type": "stream",
     "text": [
      "Slope = 0.509 ± 0.006, Intercept = 510.6 ± 6.2 keV\n"
     ]
    }
   ],
   "source": [
    "plt.plot(T,m_nr(E_gamma,T),'ro',label='Measured')\n",
    "plt.plot(T,fitfunc(T,*pars4),'black',label='Theoretical fit')\n",
    "\n",
    "plt.xlabel('T (keV)')\n",
    "plt.ylabel('Electron rest energy non-rel (keV)' )\n",
    "plt.title('Electron rest energy non-rel vs T') \n",
    "\n",
    "plt.ylim(0,1800)\n",
    "plt.legend()\n",
    "plt.grid(True)\n",
    "plt.show()\n",
    "\n",
    "print('Slope = {m:.3f} ± {σm:.3f}, Intercept = {b:.1f} ± {σb:.1f} keV'.format(m=m4,σm=σm4,b=b4,σb=σb4))"
   ]
  },
  {
   "cell_type": "code",
   "execution_count": 29,
   "metadata": {},
   "outputs": [],
   "source": [
    "def m_0(E_gamma,T):\n",
    "    res = (2 * E_gamma * (E_gamma - T)) / T\n",
    "    return res"
   ]
  },
  {
   "cell_type": "code",
   "execution_count": 30,
   "metadata": {},
   "outputs": [],
   "source": [
    "delE_gamma = 0\n",
    "delT = 2\n",
    "\n",
    "def dm_0dE_gamma(E_gamma,T):\n",
    "    res = ((4 * E_gamma) / T) - 2\n",
    "    return res\n",
    "\n",
    "def dm_0dT(E_gamma,T):\n",
    "    res = ((2 * E_gamma**2) / (T**2)) \n",
    "    return res\n",
    "\n",
    "def delY(dm_0dE_gamma,dm_0dT,delE_gamma,delT):\n",
    "    res = np.sqrt((dm_0dE_gamma)**2 * (delE_gamma)**2 + (dm_0dT)**2 * (delT)**2)\n",
    "    \n",
    "    return res"
   ]
  },
  {
   "cell_type": "code",
   "execution_count": 31,
   "metadata": {},
   "outputs": [],
   "source": [
    "yerr = delY(dm_0dE_gamma(E_gamma,T),dm_0dT(E_gamma,T),delE_gamma,delT)"
   ]
  },
  {
   "cell_type": "code",
   "execution_count": 32,
   "metadata": {},
   "outputs": [
    {
     "data": {
      "text/plain": [
       "array([ 7.78645461, 12.06291493,  6.00564833,  5.72796131,  8.5268787 ,\n",
       "        6.15985345, 35.41701368,  5.5848293 ,  4.851686  ,  6.05254895,\n",
       "        5.76891296,  9.16424974,  5.77050351])"
      ]
     },
     "execution_count": 32,
     "metadata": {},
     "output_type": "execute_result"
    }
   ],
   "source": [
    "yerr\n"
   ]
  },
  {
   "cell_type": "code",
   "execution_count": 33,
   "metadata": {},
   "outputs": [
    {
     "data": {
      "image/png": "[encoded data removed]",
      "text/plain": [
       "<Figure size 432x288 with 1 Axes>"
      ]
     },
     "metadata": {
      "needs_background": "light"
     },
     "output_type": "display_data"
    }
   ],
   "source": [
    "plt.plot(T,m_0(E_gamma,T),'ro',label='Relativistic rest energy')\n",
    "plt.errorbar(T,m_0(E_gamma,T),yerr=yerr,color='darkred',ls='none',label='Error on relativistic rest energy')\n",
    "plt.axhline(y = pars3[0],color = 'black')\n",
    "\n",
    "plt.xlabel('T (keV)')\n",
    "plt.ylabel('Electron rest energy rel (keV)' )\n",
    "plt.title('Electron rest energy rel vs T') \n",
    "\n",
    "plt.xlim(0,3000)\n",
    "plt.ylim(470,550)\n",
    "plt.legend()\n",
    "plt.grid(True)\n",
    "plt.show()"
   ]
  },
  {
   "cell_type": "markdown",
   "metadata": {},
   "source": [
    "Gamma vs Beta"
   ]
  },
  {
   "cell_type": "code",
   "execution_count": 34,
   "metadata": {},
   "outputs": [],
   "source": [
    "beta = (T * ((2 * E_gamma) - T)) / (T**2 - (2 * E_gamma * T) + (2 * E_gamma**2))"
   ]
  },
  {
   "cell_type": "code",
   "execution_count": 35,
   "metadata": {},
   "outputs": [],
   "source": [
    "def E(E_gamma,T):\n",
    "    res = (T**2 - 2 * T * E_gamma + 2 * (E_gamma)**2) / T\n",
    "    return res"
   ]
  },
  {
   "cell_type": "code",
   "execution_count": 36,
   "metadata": {},
   "outputs": [],
   "source": [
    "gamma = E(E_gamma,T) / pars3"
   ]
  },
  {
   "cell_type": "code",
   "execution_count": 37,
   "metadata": {},
   "outputs": [],
   "source": [
    "def gammaFit(c1,c2,beta):\n",
    "    res = 1 / (c1 - (c2 * beta**2))**(1 / 2)\n",
    "    return res"
   ]
  },
  {
   "cell_type": "code",
   "execution_count": 38,
   "metadata": {},
   "outputs": [
    {
     "name": "stderr",
     "output_type": "stream",
     "text": [
      "/var/folders/7n/3yfp0hr51qb73z8p5g03gv100000gp/T/ipykernel_33128/767909005.py:2: RuntimeWarning: invalid value encountered in sqrt\n",
      "  res = 1 / (c1 - (c2 * beta**2))**(1 / 2)\n",
      "/Users/andriishynder/Documents/GitHub/.venv/lib/python3.9/site-packages/scipy/optimize/minpack.py:833: OptimizeWarning: Covariance of the parameters could not be estimated\n",
      "  warnings.warn('Covariance of the parameters could not be estimated',\n"
     ]
    }
   ],
   "source": [
    "parsc1c2,covc1c2 = curve_fit(gammaFit,beta,gamma)"
   ]
  },
  {
   "cell_type": "code",
   "execution_count": 39,
   "metadata": {},
   "outputs": [
    {
     "data": {
      "text/plain": [
       "array([1., 1.])"
      ]
     },
     "execution_count": 39,
     "metadata": {},
     "output_type": "execute_result"
    }
   ],
   "source": [
    "parsc1c2"
   ]
  },
  {
   "cell_type": "code",
   "execution_count": 40,
   "metadata": {},
   "outputs": [],
   "source": [
    "betaRange = np.arange(0,1,0.001)"
   ]
  },
  {
   "cell_type": "code",
   "execution_count": 41,
   "metadata": {},
   "outputs": [
    {
     "data": {
      "image/png": "[encoded data removed]",
      "text/plain": [
       "<Figure size 432x288 with 1 Axes>"
      ]
     },
     "metadata": {
      "needs_background": "light"
     },
     "output_type": "display_data"
    }
   ],
   "source": [
    "plt.plot(beta,gamma,'ro')\n",
    "plt.plot(betaRange,gammaFit(parsc1c2[0],parsc1c2[1],betaRange),'black')\n",
    "\n",
    "\n",
    "\n",
    "plt.xlabel('Beta')\n",
    "plt.ylabel('Gamma' )\n",
    "plt.title('Gamma vs Beta') \n",
    "\n",
    "plt.ylim(0,4)\n",
    "plt.grid(True)\n",
    "plt.show()"
   ]
  },
  {
   "cell_type": "markdown",
   "metadata": {},
   "source": [
    "Electron momentum vs Beta"
   ]
  },
  {
   "cell_type": "code",
   "execution_count": 42,
   "metadata": {},
   "outputs": [],
   "source": [
    "def pc(E_gamma,T):\n",
    "    res = 2 * E_gamma - T\n",
    "    return res"
   ]
  },
  {
   "cell_type": "code",
   "execution_count": 43,
   "metadata": {},
   "outputs": [],
   "source": [
    "def gammaExpected(beta):\n",
    "    res = 1/ (1 - beta**2)**(1/2)\n",
    "    return res"
   ]
  },
  {
   "cell_type": "code",
   "execution_count": 44,
   "metadata": {},
   "outputs": [],
   "source": [
    "def pcFit(beta_):\n",
    "    res = gammaExpected(beta_) * beta_ * pars3\n",
    "    return res"
   ]
  },
  {
   "cell_type": "code",
   "execution_count": 45,
   "metadata": {},
   "outputs": [
    {
     "data": {
      "image/png": "[encoded data removed]",
      "text/plain": [
       "<Figure size 432x288 with 1 Axes>"
      ]
     },
     "metadata": {
      "needs_background": "light"
     },
     "output_type": "display_data"
    }
   ],
   "source": [
    "plt.plot(betaRange,pcFit(betaRange),'black')\n",
    "plt.plot(beta,pc(E_gamma,T),'ro')\n",
    "\n",
    "plt.xlabel('Beta')\n",
    "plt.ylabel('pc (keV)' )\n",
    "plt.title('Electron momentum vs Beta') \n",
    "\n",
    "plt.xlim(0,1)\n",
    "plt.ylim(0,3000)\n",
    "plt.grid(True)\n",
    "plt.show()"
   ]
  },
  {
   "cell_type": "code",
   "execution_count": null,
   "metadata": {},
   "outputs": [],
   "source": []
  }
 ],
 "metadata": {
  "interpreter": {
   "hash": "b08177f848f659188d7001496b8d384528b25e7870e0b91f9010f831f87d57b8"
  },
  "kernelspec": {
   "display_name": "Python 3.9.7 ('.venv': venv)",
   "language": "python",
   "name": "python3"
  },
  "language_info": {
   "codemirror_mode": {
    "name": "ipython",
    "version": 3
   },
   "file_extension": ".py",
   "mimetype": "text/x-python",
   "name": "python",
   "nbconvert_exporter": "python",
   "pygments_lexer": "ipython3",
   "version": "3.9.7"
  },
  "orig_nbformat": 4
 },
 "nbformat": 4,
 "nbformat_minor": 2
}
